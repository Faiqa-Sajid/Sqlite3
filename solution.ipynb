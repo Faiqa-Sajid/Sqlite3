{
 "cells": [
  {
   "cell_type": "markdown",
   "metadata": {
    "azdata_cell_guid": "d7b89799-a102-479f-87b7-f2759ff1962e"
   },
   "source": [
    "# Exercises: Working with Databases in Python\n",
    "\n",
    "For the exercises, we will be practicing the steps outlined in this [article](https://towardsdatascience.com/do-you-know-python-has-a-built-in-database-d553989c87bd). You can skip the portion where the author downloads a separate SQL client to examine the database. "
   ]
  },
  {
   "cell_type": "markdown",
   "metadata": {
    "azdata_cell_guid": "89a0b6d9-821d-44f5-9795-9519809b9108"
   },
   "source": [
    "## Import Libraries\n",
    "\n",
    "We will need `pandas` and `sqlite3`. SQLite is a small, self-contained database engine that comes with Python so you will not have to do any additional installations for this lesson. If you want to connect to a different database engine, such as SQL server, you may need additional libraries such as `sqlalchemy` or `pyodbc` and a tool called a driver which helps to connect a database to an application.\n"
   ]
  },
  {
   "cell_type": "code",
   "execution_count": 8,
   "metadata": {
    "azdata_cell_guid": "865655b0-22e9-47f4-a5df-4bfe97dda4a3",
    "tags": []
   },
   "outputs": [],
   "source": [
    "# Import sqlite3 and pandas.\n",
    "import sqlite3 as sl\n",
    "import pandas as pd"
   ]
  },
  {
   "cell_type": "markdown",
   "metadata": {
    "azdata_cell_guid": "be8436e2-68be-47f8-9fc9-06c235a6a128"
   },
   "source": [
    "## Create a Database\n",
    "\n",
    "In the article, the author shows how to use `sqlite3` to open a connection to an existing database or create a new one. Use this method to make a new database called `exercises.db`."
   ]
  },
  {
   "cell_type": "code",
   "execution_count": 2,
   "metadata": {
    "azdata_cell_guid": "707abc33-c6ee-416e-9358-c799f1fcbb12"
   },
   "outputs": [],
   "source": [
    "# Create a new database called exercises.db.\n",
    "con = sl.connect('exercises.db')"
   ]
  },
  {
   "cell_type": "markdown",
   "metadata": {
    "azdata_cell_guid": "dc9df060-ddc9-4573-bd74-3c97323f85a7"
   },
   "source": [
    "## Create a Table\n",
    "\n",
    "Follow the steps in the article to create a table called `favorite_books.db`. This table should include columns for the title, author, and a short description of why it is a favorite."
   ]
  },
  {
   "cell_type": "code",
   "execution_count": 3,
   "metadata": {
    "azdata_cell_guid": "3cc6b80e-3fa2-4d2e-b2a9-1ea5d68ba01e"
   },
   "outputs": [
    {
     "ename": "OperationalError",
     "evalue": "table USER already exists",
     "output_type": "error",
     "traceback": [
      "\u001b[1;31m---------------------------------------------------------------------------\u001b[0m",
      "\u001b[1;31mOperationalError\u001b[0m                          Traceback (most recent call last)",
      "\u001b[1;32mC:\\Users\\FAIQAS~1\\AppData\\Local\\Temp/ipykernel_12464/1842861662.py\u001b[0m in \u001b[0;36m<module>\u001b[1;34m\u001b[0m\n\u001b[0;32m      1\u001b[0m \u001b[1;31m# Create a new table in your database.\u001b[0m\u001b[1;33m\u001b[0m\u001b[1;33m\u001b[0m\u001b[1;33m\u001b[0m\u001b[0m\n\u001b[0;32m      2\u001b[0m \u001b[1;32mwith\u001b[0m \u001b[0mcon\u001b[0m\u001b[1;33m:\u001b[0m\u001b[1;33m\u001b[0m\u001b[1;33m\u001b[0m\u001b[0m\n\u001b[1;32m----> 3\u001b[1;33m     con.execute(\"\"\"\n\u001b[0m\u001b[0;32m      4\u001b[0m         CREATE TABLE USER (\n\u001b[0;32m      5\u001b[0m             \u001b[0mid\u001b[0m \u001b[0mINTEGER\u001b[0m \u001b[0mNOT\u001b[0m \u001b[0mNULL\u001b[0m \u001b[0mPRIMARY\u001b[0m \u001b[0mKEY\u001b[0m \u001b[0mAUTOINCREMENT\u001b[0m\u001b[1;33m,\u001b[0m\u001b[1;33m\u001b[0m\u001b[1;33m\u001b[0m\u001b[0m\n",
      "\u001b[1;31mOperationalError\u001b[0m: table USER already exists"
     ]
    }
   ],
   "source": [
    "# Create a new table in your database.\n",
    "with con:\n",
    "    con.execute(\"\"\"\n",
    "        CREATE TABLE USER (\n",
    "            id INTEGER NOT NULL PRIMARY KEY AUTOINCREMENT,\n",
    "            name TEXT,\n",
    "            age INTEGER\n",
    "        );\n",
    "    \"\"\")"
   ]
  },
  {
   "cell_type": "markdown",
   "metadata": {
    "azdata_cell_guid": "e9acec60-1485-45c8-9f12-997f959d44cc"
   },
   "source": [
    "## Insert Records\n",
    "\n",
    "Add 3 entries to your table for your top 3 favorite books."
   ]
  },
  {
   "cell_type": "code",
   "execution_count": 4,
   "metadata": {
    "azdata_cell_guid": "c7b8e386-f3f4-42ad-aa91-a2da2e7904a5"
   },
   "outputs": [],
   "source": [
    "# Add your 3 favorite books to your table.\n",
    "sql = 'INSERT INTO USER (id, name, age) values(?, ?, ?)'\n",
    "data = [\n",
    "    (1, 'Alice', 21),\n",
    "    (2, 'Bob', 22),\n",
    "    (3, 'Chris', 23)\n",
    "]"
   ]
  },
  {
   "cell_type": "code",
   "execution_count": 5,
   "metadata": {},
   "outputs": [
    {
     "ename": "IntegrityError",
     "evalue": "UNIQUE constraint failed: USER.id",
     "output_type": "error",
     "traceback": [
      "\u001b[1;31m---------------------------------------------------------------------------\u001b[0m",
      "\u001b[1;31mIntegrityError\u001b[0m                            Traceback (most recent call last)",
      "\u001b[1;32mC:\\Users\\FAIQAS~1\\AppData\\Local\\Temp/ipykernel_12464/1908841978.py\u001b[0m in \u001b[0;36m<module>\u001b[1;34m\u001b[0m\n\u001b[0;32m      1\u001b[0m \u001b[1;32mwith\u001b[0m \u001b[0mcon\u001b[0m\u001b[1;33m:\u001b[0m\u001b[1;33m\u001b[0m\u001b[1;33m\u001b[0m\u001b[0m\n\u001b[1;32m----> 2\u001b[1;33m     \u001b[0mcon\u001b[0m\u001b[1;33m.\u001b[0m\u001b[0mexecutemany\u001b[0m\u001b[1;33m(\u001b[0m\u001b[0msql\u001b[0m\u001b[1;33m,\u001b[0m \u001b[0mdata\u001b[0m\u001b[1;33m)\u001b[0m\u001b[1;33m\u001b[0m\u001b[1;33m\u001b[0m\u001b[0m\n\u001b[0m",
      "\u001b[1;31mIntegrityError\u001b[0m: UNIQUE constraint failed: USER.id"
     ]
    }
   ],
   "source": [
    "with con:\n",
    "    con.executemany(sql, data)"
   ]
  },
  {
   "cell_type": "markdown",
   "metadata": {
    "azdata_cell_guid": "b2e48ba7-b418-4418-bb16-598fb82b964c"
   },
   "source": [
    "## Query Your Table\n",
    "\n",
    "Write a `SELECT` query to output the 3 records in your table."
   ]
  },
  {
   "cell_type": "code",
   "execution_count": 6,
   "metadata": {
    "azdata_cell_guid": "c341e7e2-d635-4c26-b744-237c762f7f41",
    "tags": []
   },
   "outputs": [
    {
     "name": "stdout",
     "output_type": "stream",
     "text": [
      "(1, 'Alice', 21)\n",
      "(2, 'Bob', 22)\n"
     ]
    }
   ],
   "source": [
    "# Write your SELECT query here.\n",
    "with con:\n",
    "    data = con.execute(\"SELECT * FROM USER WHERE age <= 22\")\n",
    "    for row in data:\n",
    "        print(row)"
   ]
  },
  {
   "cell_type": "markdown",
   "metadata": {
    "azdata_cell_guid": "2127737d-71cd-4f0d-a84e-b1db8ad54af7"
   },
   "source": [
    "## Create a New Table with Pandas\n",
    "\n",
    "Create a new table called `favorite_movies` with your top 3 favorite movies. Each movie should have an id and a title. This time, use Pandas to first make a dataframe and then write the dataframe to SQL. Write a `SELECT` query to confirm that the new table does have your top 3 favorite movies."
   ]
  },
  {
   "cell_type": "code",
   "execution_count": 15,
   "metadata": {
    "azdata_cell_guid": "b4b6dd20-ccc0-42e7-b1e7-79d8596b3f9c"
   },
   "outputs": [
    {
     "data": {
      "text/html": [
       "<div>\n",
       "<style scoped>\n",
       "    .dataframe tbody tr th:only-of-type {\n",
       "        vertical-align: middle;\n",
       "    }\n",
       "\n",
       "    .dataframe tbody tr th {\n",
       "        vertical-align: top;\n",
       "    }\n",
       "\n",
       "    .dataframe thead th {\n",
       "        text-align: right;\n",
       "    }\n",
       "</style>\n",
       "<table border=\"1\" class=\"dataframe\">\n",
       "  <thead>\n",
       "    <tr style=\"text-align: right;\">\n",
       "      <th></th>\n",
       "      <th>movie_id</th>\n",
       "      <th>title</th>\n",
       "    </tr>\n",
       "  </thead>\n",
       "  <tbody>\n",
       "    <tr>\n",
       "      <th>0</th>\n",
       "      <td>1</td>\n",
       "      <td>Now you see me</td>\n",
       "    </tr>\n",
       "    <tr>\n",
       "      <th>1</th>\n",
       "      <td>2</td>\n",
       "      <td>Spirit</td>\n",
       "    </tr>\n",
       "    <tr>\n",
       "      <th>2</th>\n",
       "      <td>3</td>\n",
       "      <td>Wonderwomen</td>\n",
       "    </tr>\n",
       "  </tbody>\n",
       "</table>\n",
       "</div>"
      ],
      "text/plain": [
       "   movie_id           title\n",
       "0         1  Now you see me\n",
       "1         2          Spirit\n",
       "2         3     Wonderwomen"
      ]
     },
     "execution_count": 15,
     "metadata": {},
     "output_type": "execute_result"
    }
   ],
   "source": [
    "# Use Pandas to make a new table in your database.\n",
    "df_favmovies = pd.DataFrame({\n",
    "    'movie_id': [1,2,3],\n",
    "    'title': ['Now you see me', 'Spirit', 'Wonderwomen']\n",
    "})\n",
    "df_favmovies"
   ]
  },
  {
   "cell_type": "code",
   "execution_count": 11,
   "metadata": {},
   "outputs": [],
   "source": [
    "df_favmovies.to_sql('title',con)"
   ]
  },
  {
   "cell_type": "code",
   "execution_count": 13,
   "metadata": {},
   "outputs": [
    {
     "ename": "NameError",
     "evalue": "name 'df' is not defined",
     "output_type": "error",
     "traceback": [
      "\u001b[1;31m---------------------------------------------------------------------------\u001b[0m",
      "\u001b[1;31mNameError\u001b[0m                                 Traceback (most recent call last)",
      "\u001b[1;32mC:\\Users\\FAIQAS~1\\AppData\\Local\\Temp/ipykernel_12464/3565105470.py\u001b[0m in \u001b[0;36m<module>\u001b[1;34m\u001b[0m\n\u001b[1;32m----> 1\u001b[1;33m \u001b[0mdf\u001b[0m\u001b[1;33m.\u001b[0m\u001b[0mto_sql\u001b[0m\u001b[1;33m(\u001b[0m\u001b[1;34m'USER_SKILL'\u001b[0m\u001b[1;33m,\u001b[0m \u001b[0mcon\u001b[0m\u001b[1;33m)\u001b[0m\u001b[1;33m\u001b[0m\u001b[1;33m\u001b[0m\u001b[0m\n\u001b[0m\u001b[0;32m      2\u001b[0m \u001b[0mdf_favmovies\u001b[0m\u001b[1;33m.\u001b[0m\u001b[0mto_sql\u001b[0m\u001b[1;33m(\u001b[0m\u001b[1;34m'favorite_movies'\u001b[0m\u001b[1;33m,\u001b[0m\u001b[0mcon\u001b[0m\u001b[1;33m)\u001b[0m\u001b[1;33m\u001b[0m\u001b[1;33m\u001b[0m\u001b[0m\n",
      "\u001b[1;31mNameError\u001b[0m: name 'df' is not defined"
     ]
    }
   ],
   "source": [
    "\n",
    "df_favmovies.to_sql('favorite_movies',con)"
   ]
  },
  {
   "cell_type": "code",
   "execution_count": null,
   "metadata": {},
   "outputs": [],
   "source": []
  }
 ],
 "metadata": {
  "kernelspec": {
   "display_name": "Python 3 (ipykernel)",
   "language": "python",
   "name": "python3"
  },
  "language_info": {
   "codemirror_mode": {
    "name": "ipython",
    "version": 3
   },
   "file_extension": ".py",
   "mimetype": "text/x-python",
   "name": "python",
   "nbconvert_exporter": "python",
   "pygments_lexer": "ipython3",
   "version": "3.8.8"
  }
 },
 "nbformat": 4,
 "nbformat_minor": 2
}
